{
 "cells": [
  {
   "cell_type": "markdown",
   "metadata": {},
   "source": [
    "### This contains the code for the \"Getting Started with Python\" Class for the NG30DaysofLearning"
   ]
  },
  {
   "cell_type": "code",
   "execution_count": 1,
   "metadata": {},
   "outputs": [
    {
     "name": "stdout",
     "output_type": "stream",
     "text": [
      "Today's date is 2022-06-15\n"
     ]
    }
   ],
   "source": [
    "from datetime import date\n",
    "todays_date=date.today()\n",
    "print(\"Today's date is \" + str(todays_date))"
   ]
  },
  {
   "cell_type": "code",
   "execution_count": 2,
   "metadata": {},
   "outputs": [
    {
     "name": "stdout",
     "output_type": "stream",
     "text": [
      "Theresa comes from Nigeria\n"
     ]
    }
   ],
   "source": [
    "name =input('Enter your name? ')\n",
    "country=input('Enter your country: ')\n",
    "print(name + \" comes from \" + country)"
   ]
  },
  {
   "cell_type": "code",
   "execution_count": 3,
   "metadata": {},
   "outputs": [
    {
     "name": "stdout",
     "output_type": "stream",
     "text": [
      "BMI Calculator\n",
      "Your bmi is 86.32229338417243\n",
      "You are very overweight\n"
     ]
    }
   ],
   "source": [
    "print(\"BMI Calculator\")\n",
    "weight= float(input(\"Enter your weight in kg: \"))\n",
    "height=float(input(\"Enter your height in metres: \"))\n",
    "BMI=weight/(height*height)\n",
    "print(f\"Your bmi is {BMI}\")\n",
    "\n",
    "if BMI>0 :\n",
    "    if BMI <=16:\n",
    "        print(\"You are very underweight\")\n",
    "    elif BMI <= 18.5:\n",
    "        print(\"You are underweight\")\n",
    "    elif BMI <= 25:\n",
    "        print(\"Congrats, You are healthy!\")\n",
    "    elif BMI <=30:\n",
    "        print(\"You are overweight\")\n",
    "    else:\n",
    "        print(\"You are very overweight\")\n",
    "else:\n",
    "    print(\"Enter valid details\")"
   ]
  }
 ],
 "metadata": {
  "kernelspec": {
   "display_name": "Python 3.10.5 64-bit (windows store)",
   "language": "python",
   "name": "python3"
  },
  "language_info": {
   "codemirror_mode": {
    "name": "ipython",
    "version": 3
   },
   "file_extension": ".py",
   "mimetype": "text/x-python",
   "name": "python",
   "nbconvert_exporter": "python",
   "pygments_lexer": "ipython3",
   "version": "3.10.5"
  },
  "orig_nbformat": 4,
  "vscode": {
   "interpreter": {
    "hash": "3b7e9cb8e453d6cda0fe8c8dd13f891a1f09162f0e7c66ffeae7751a7aecf00d"
   }
  }
 },
 "nbformat": 4,
 "nbformat_minor": 2
}
